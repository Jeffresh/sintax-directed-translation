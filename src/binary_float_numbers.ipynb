{
 "metadata": {
  "language_info": {
   "codemirror_mode": {
    "name": "ipython",
    "version": 3
   },
   "file_extension": ".py",
   "mimetype": "text/x-python",
   "name": "python",
   "nbconvert_exporter": "python",
   "pygments_lexer": "ipython3",
   "version": 3
  },
  "orig_nbformat": 2
 },
 "nbformat": 4,
 "nbformat_minor": 2,
 "cells": [
  {
   "source": [
    "# Sintax directed translate: Binary float numbers\n",
    "\n",
    "Design of the scheme translation and SLY implementation of a language that translate binary float numbers to decimal.\n",
    "\n",
    "### Translation Scheme Design\n",
    "\n",
    "\n",
    "| Sintactic Rules        | Semantic Rules                                                |\n",
    "|------------------------|---------------------------------------------------------------|\n",
    "| num -> sec_1 '.' sec_2 | num.v := sec_1.v + sec_2.v / 2 ^ sec_2.lon                    |\n",
    "| sec -> sec_1 dig       | sec.v := sec_1.v * 2 + dig.v **and** sec.lon := sec_1.lon + 1 |\n",
    "| sec -> dig             | sec.v := dig.v **and** sec.long := 1                          |\n",
    "| dig -> '0'             | dig.v := 0                                                    |\n",
    "| dig -> '1'             | dig.v := 1                                                    |\n"
   ],
   "cell_type": "markdown",
   "metadata": {}
  }
 ]
}